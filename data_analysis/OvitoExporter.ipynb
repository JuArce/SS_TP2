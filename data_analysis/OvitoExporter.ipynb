{
 "cells": [
  {
   "cell_type": "code",
   "execution_count": 499,
   "metadata": {
    "collapsed": true
   },
   "outputs": [],
   "source": [
    "import numpy as np\n",
    "import pandas as pd"
   ]
  },
  {
   "cell_type": "code",
   "execution_count": 500,
   "outputs": [
    {
     "name": "stdout",
     "output_type": "stream",
     "text": [
      "       iteration    id          x          y  speed     angle\n",
      "0              0     1  30.215670  79.745192   0.03  1.368065\n",
      "1              0     2  55.771548  47.474702   0.03  1.398665\n",
      "2              0     3  52.626056  30.979826   0.03  1.305923\n",
      "3              0     4  40.224701  59.516853   0.03  1.024020\n",
      "4              0     5  35.402897  15.787588   0.03  5.218546\n",
      "...          ...   ...        ...        ...    ...       ...\n",
      "99995         99   996  75.850022  28.726714   0.03  2.512156\n",
      "99996         99   997  99.960904  98.716099   0.03 -2.049476\n",
      "99997         99   998  34.852057  26.419635   0.03  2.468284\n",
      "99998         99   999  94.144534  73.930454   0.03  1.527208\n",
      "99999         99  1000  98.895959  86.539432   0.03  3.300377\n",
      "\n",
      "[100000 rows x 6 columns]\n"
     ]
    }
   ],
   "source": [
    "# Read output csv\n",
    "data = pd.read_csv(\"../src/main/resources/output/output.csv\")\n",
    "print(data)"
   ],
   "metadata": {
    "collapsed": false,
    "pycharm": {
     "name": "#%%\n"
    }
   }
  },
  {
   "cell_type": "code",
   "execution_count": 501,
   "outputs": [
    {
     "name": "stdout",
     "output_type": "stream",
     "text": [
      "Index(['radius'], dtype='object')\n"
     ]
    }
   ],
   "source": [
    "#Read static data\n",
    "s_data = pd.read_csv(\"../src/main/resources/input/staticN.txt\")\n",
    "s_data.columns = ['radius']\n",
    "print(s_data.columns)"
   ],
   "metadata": {
    "collapsed": false,
    "pycharm": {
     "name": "#%%\n"
    }
   }
  },
  {
   "cell_type": "code",
   "execution_count": 502,
   "outputs": [
    {
     "name": "stdout",
     "output_type": "stream",
     "text": [
      "max_id: 1000\n",
      "max_iteration: 99\n"
     ]
    }
   ],
   "source": [
    "#Saving max data\n",
    "max_id = data['id'].max()\n",
    "max_iteration = data['iteration'].max()\n",
    "print(f'max_id: {max_id}\\nmax_iteration: {max_iteration}')"
   ],
   "metadata": {
    "collapsed": false,
    "pycharm": {
     "name": "#%%\n"
    }
   }
  },
  {
   "cell_type": "code",
   "execution_count": 503,
   "outputs": [
    {
     "name": "stdout",
     "output_type": "stream",
     "text": [
      "       iteration    id          x          y  speed     angle  radius\n",
      "0              0     1  30.215670  79.745192   0.03  1.368065     1.0\n",
      "1              0     2  55.771548  47.474702   0.03  1.398665     1.0\n",
      "2              0     3  52.626056  30.979826   0.03  1.305923     1.0\n",
      "3              0     4  40.224701  59.516853   0.03  1.024020     1.0\n",
      "4              0     5  35.402897  15.787588   0.03  5.218546     1.0\n",
      "...          ...   ...        ...        ...    ...       ...     ...\n",
      "99995         99   996  75.850022  28.726714   0.03  2.512156     1.0\n",
      "99996         99   997  99.960904  98.716099   0.03 -2.049476     1.0\n",
      "99997         99   998  34.852057  26.419635   0.03  2.468284     1.0\n",
      "99998         99   999  94.144534  73.930454   0.03  1.527208     1.0\n",
      "99999         99  1000  98.895959  86.539432   0.03  3.300377     1.0\n",
      "\n",
      "[100000 rows x 7 columns]\n"
     ]
    }
   ],
   "source": [
    "join_data = data.join(s_data,on='id')\n",
    "print(join_data)"
   ],
   "metadata": {
    "collapsed": false,
    "pycharm": {
     "name": "#%%\n"
    }
   }
  },
  {
   "cell_type": "code",
   "execution_count": 504,
   "outputs": [
    {
     "name": "stdout",
     "output_type": "stream",
     "text": [
      "         id          x          y  speed     angle  radius\n",
      "0         1  30.215670  79.745192   0.03  1.368065     1.0\n",
      "1         2  55.771548  47.474702   0.03  1.398665     1.0\n",
      "2         3  52.626056  30.979826   0.03  1.305923     1.0\n",
      "3         4  40.224701  59.516853   0.03  1.024020     1.0\n",
      "4         5  35.402897  15.787588   0.03  5.218546     1.0\n",
      "...     ...        ...        ...    ...       ...     ...\n",
      "99995   996  75.850022  28.726714   0.03  2.512156     1.0\n",
      "99996   997  99.960904  98.716099   0.03 -2.049476     1.0\n",
      "99997   998  34.852057  26.419635   0.03  2.468284     1.0\n",
      "99998   999  94.144534  73.930454   0.03  1.527208     1.0\n",
      "99999  1000  98.895959  86.539432   0.03  3.300377     1.0\n",
      "\n",
      "[100000 rows x 6 columns]\n"
     ]
    }
   ],
   "source": [
    "#Dropping useless data\n",
    "join_data = join_data.drop(columns=['iteration'])\n",
    "print(join_data)"
   ],
   "metadata": {
    "collapsed": false,
    "pycharm": {
     "name": "#%%\n"
    }
   }
  },
  {
   "cell_type": "code",
   "execution_count": 505,
   "outputs": [],
   "source": [
    "start_line = [max_id,np.nan,np.nan,np.nan,np.nan,'\\n']\n",
    "empty_line = [np.nan,np.nan,np.nan,np.nan,np.nan]"
   ],
   "metadata": {
    "collapsed": false,
    "pycharm": {
     "name": "#%%\n"
    }
   }
  },
  {
   "cell_type": "code",
   "execution_count": 506,
   "outputs": [
    {
     "data": {
      "text/plain": "array([-5.00000e-01,  9.99500e+02,  1.99950e+03,  2.99950e+03,\n        3.99950e+03,  4.99950e+03,  5.99950e+03,  6.99950e+03,\n        7.99950e+03,  8.99950e+03,  9.99950e+03,  1.09995e+04,\n        1.19995e+04,  1.29995e+04,  1.39995e+04,  1.49995e+04,\n        1.59995e+04,  1.69995e+04,  1.79995e+04,  1.89995e+04,\n        1.99995e+04,  2.09995e+04,  2.19995e+04,  2.29995e+04,\n        2.39995e+04,  2.49995e+04,  2.59995e+04,  2.69995e+04,\n        2.79995e+04,  2.89995e+04,  2.99995e+04,  3.09995e+04,\n        3.19995e+04,  3.29995e+04,  3.39995e+04,  3.49995e+04,\n        3.59995e+04,  3.69995e+04,  3.79995e+04,  3.89995e+04,\n        3.99995e+04,  4.09995e+04,  4.19995e+04,  4.29995e+04,\n        4.39995e+04,  4.49995e+04,  4.59995e+04,  4.69995e+04,\n        4.79995e+04,  4.89995e+04,  4.99995e+04,  5.09995e+04,\n        5.19995e+04,  5.29995e+04,  5.39995e+04,  5.49995e+04,\n        5.59995e+04,  5.69995e+04,  5.79995e+04,  5.89995e+04,\n        5.99995e+04,  6.09995e+04,  6.19995e+04,  6.29995e+04,\n        6.39995e+04,  6.49995e+04,  6.59995e+04,  6.69995e+04,\n        6.79995e+04,  6.89995e+04,  6.99995e+04,  7.09995e+04,\n        7.19995e+04,  7.29995e+04,  7.39995e+04,  7.49995e+04,\n        7.59995e+04,  7.69995e+04,  7.79995e+04,  7.89995e+04,\n        7.99995e+04,  8.09995e+04,  8.19995e+04,  8.29995e+04,\n        8.39995e+04,  8.49995e+04,  8.59995e+04,  8.69995e+04,\n        8.79995e+04,  8.89995e+04,  8.99995e+04,  9.09995e+04,\n        9.19995e+04,  9.29995e+04,  9.39995e+04,  9.49995e+04,\n        9.59995e+04,  9.69995e+04,  9.79995e+04])"
     },
     "execution_count": 506,
     "metadata": {},
     "output_type": "execute_result"
    }
   ],
   "source": [
    "a = np.arange(max_iteration) * max_id - 0.5\n",
    "a"
   ],
   "metadata": {
    "collapsed": false,
    "pycharm": {
     "name": "#%%\n"
    }
   }
  },
  {
   "cell_type": "code",
   "execution_count": 507,
   "outputs": [],
   "source": [
    "#Probar aca juli\n",
    "for x in a:\n",
    "    join_data.loc[x] = start_line"
   ],
   "metadata": {
    "collapsed": false,
    "pycharm": {
     "name": "#%%\n"
    }
   }
  },
  {
   "cell_type": "code",
   "execution_count": null,
   "outputs": [],
   "source": [
    "for x in range(0,max_iteration+1):\n",
    "    join_data.loc[x * max_id - 1 + 0.5] = start_line\n",
    "    # join_data.loc[x * max_id - 1 + 0.75] = empty_line"
   ],
   "metadata": {
    "collapsed": false,
    "pycharm": {
     "name": "#%%\n"
    }
   }
  },
  {
   "cell_type": "code",
   "execution_count": 508,
   "outputs": [],
   "source": [
    "join_data = join_data.sort_index().reset_index(drop=True)"
   ],
   "metadata": {
    "collapsed": false,
    "pycharm": {
     "name": "#%%\n"
    }
   }
  },
  {
   "cell_type": "code",
   "execution_count": 509,
   "outputs": [
    {
     "data": {
      "text/plain": "          id          x          y  speed     angle radius\n0       1000        NaN        NaN    NaN       NaN     \\n\n1          1  30.215670  79.745192   0.03  1.368065    1.0\n2          2  55.771548  47.474702   0.03  1.398665    1.0\n3          3  52.626056  30.979826   0.03  1.305923    1.0\n4          4  40.224701  59.516853   0.03  1.024020    1.0\n...      ...        ...        ...    ...       ...    ...\n100094   996  75.850022  28.726714   0.03  2.512156    1.0\n100095   997  99.960904  98.716099   0.03 -2.049476    1.0\n100096   998  34.852057  26.419635   0.03  2.468284    1.0\n100097   999  94.144534  73.930454   0.03  1.527208    1.0\n100098  1000  98.895959  86.539432   0.03  3.300377    1.0\n\n[100099 rows x 6 columns]",
      "text/html": "<div>\n<style scoped>\n    .dataframe tbody tr th:only-of-type {\n        vertical-align: middle;\n    }\n\n    .dataframe tbody tr th {\n        vertical-align: top;\n    }\n\n    .dataframe thead th {\n        text-align: right;\n    }\n</style>\n<table border=\"1\" class=\"dataframe\">\n  <thead>\n    <tr style=\"text-align: right;\">\n      <th></th>\n      <th>id</th>\n      <th>x</th>\n      <th>y</th>\n      <th>speed</th>\n      <th>angle</th>\n      <th>radius</th>\n    </tr>\n  </thead>\n  <tbody>\n    <tr>\n      <th>0</th>\n      <td>1000</td>\n      <td>NaN</td>\n      <td>NaN</td>\n      <td>NaN</td>\n      <td>NaN</td>\n      <td>\\n</td>\n    </tr>\n    <tr>\n      <th>1</th>\n      <td>1</td>\n      <td>30.215670</td>\n      <td>79.745192</td>\n      <td>0.03</td>\n      <td>1.368065</td>\n      <td>1.0</td>\n    </tr>\n    <tr>\n      <th>2</th>\n      <td>2</td>\n      <td>55.771548</td>\n      <td>47.474702</td>\n      <td>0.03</td>\n      <td>1.398665</td>\n      <td>1.0</td>\n    </tr>\n    <tr>\n      <th>3</th>\n      <td>3</td>\n      <td>52.626056</td>\n      <td>30.979826</td>\n      <td>0.03</td>\n      <td>1.305923</td>\n      <td>1.0</td>\n    </tr>\n    <tr>\n      <th>4</th>\n      <td>4</td>\n      <td>40.224701</td>\n      <td>59.516853</td>\n      <td>0.03</td>\n      <td>1.024020</td>\n      <td>1.0</td>\n    </tr>\n    <tr>\n      <th>...</th>\n      <td>...</td>\n      <td>...</td>\n      <td>...</td>\n      <td>...</td>\n      <td>...</td>\n      <td>...</td>\n    </tr>\n    <tr>\n      <th>100094</th>\n      <td>996</td>\n      <td>75.850022</td>\n      <td>28.726714</td>\n      <td>0.03</td>\n      <td>2.512156</td>\n      <td>1.0</td>\n    </tr>\n    <tr>\n      <th>100095</th>\n      <td>997</td>\n      <td>99.960904</td>\n      <td>98.716099</td>\n      <td>0.03</td>\n      <td>-2.049476</td>\n      <td>1.0</td>\n    </tr>\n    <tr>\n      <th>100096</th>\n      <td>998</td>\n      <td>34.852057</td>\n      <td>26.419635</td>\n      <td>0.03</td>\n      <td>2.468284</td>\n      <td>1.0</td>\n    </tr>\n    <tr>\n      <th>100097</th>\n      <td>999</td>\n      <td>94.144534</td>\n      <td>73.930454</td>\n      <td>0.03</td>\n      <td>1.527208</td>\n      <td>1.0</td>\n    </tr>\n    <tr>\n      <th>100098</th>\n      <td>1000</td>\n      <td>98.895959</td>\n      <td>86.539432</td>\n      <td>0.03</td>\n      <td>3.300377</td>\n      <td>1.0</td>\n    </tr>\n  </tbody>\n</table>\n<p>100099 rows × 6 columns</p>\n</div>"
     },
     "execution_count": 509,
     "metadata": {},
     "output_type": "execute_result"
    }
   ],
   "source": [
    "join_data = join_data.astype({'id':int,'radius': str})\n",
    "join_data"
   ],
   "metadata": {
    "collapsed": false,
    "pycharm": {
     "name": "#%%\n"
    }
   }
  },
  {
   "cell_type": "code",
   "execution_count": 510,
   "outputs": [],
   "source": [
    "import csv\n",
    "join_data.to_csv(\"./resources/ovito_exporter.csv\",sep=' ', index=False, header=False,quoting=csv.QUOTE_NONE,escapechar=\" \")"
   ],
   "metadata": {
    "collapsed": false,
    "pycharm": {
     "name": "#%%\n"
    }
   }
  },
  {
   "cell_type": "code",
   "execution_count": null,
   "outputs": [],
   "source": [],
   "metadata": {
    "collapsed": false,
    "pycharm": {
     "name": "#%%\n"
    }
   }
  }
 ],
 "metadata": {
  "kernelspec": {
   "display_name": "Python 3",
   "language": "python",
   "name": "python3"
  },
  "language_info": {
   "codemirror_mode": {
    "name": "ipython",
    "version": 2
   },
   "file_extension": ".py",
   "mimetype": "text/x-python",
   "name": "python",
   "nbconvert_exporter": "python",
   "pygments_lexer": "ipython2",
   "version": "2.7.6"
  }
 },
 "nbformat": 4,
 "nbformat_minor": 0
}