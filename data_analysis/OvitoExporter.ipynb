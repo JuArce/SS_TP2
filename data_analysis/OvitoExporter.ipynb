{
 "cells": [
  {
   "cell_type": "code",
   "execution_count": 1,
   "metadata": {
    "collapsed": true
   },
   "outputs": [],
   "source": [
    "import pandas as pd"
   ]
  },
  {
   "cell_type": "code",
   "execution_count": 2,
   "outputs": [
    {
     "name": "stdout",
     "output_type": "stream",
     "text": [
      "       iteration    id          x          y  speed     angle\n",
      "0              0     1  30.215670  79.745192   0.03  1.368065\n",
      "1              0     2  55.771548  47.474702   0.03  1.398665\n",
      "2              0     3  52.626056  30.979826   0.03  1.305923\n",
      "3              0     4  40.224701  59.516853   0.03  1.024020\n",
      "4              0     5  35.402897  15.787588   0.03  5.218546\n",
      "...          ...   ...        ...        ...    ...       ...\n",
      "99995         99   996  75.850022  28.726714   0.03  2.512156\n",
      "99996         99   997  99.960904  98.716099   0.03 -2.049476\n",
      "99997         99   998  34.852057  26.419635   0.03  2.468284\n",
      "99998         99   999  94.144534  73.930454   0.03  1.527208\n",
      "99999         99  1000  98.895959  86.539432   0.03  3.300377\n",
      "\n",
      "[100000 rows x 6 columns]\n"
     ]
    }
   ],
   "source": [
    "# Read csv\n",
    "data = pd.read_csv(\"../src/main/resources/output/output.csv\")\n",
    "print(data)"
   ],
   "metadata": {
    "collapsed": false,
    "pycharm": {
     "name": "#%%\n"
    }
   }
  },
  {
   "cell_type": "code",
   "execution_count": null,
   "outputs": [],
   "source": [],
   "metadata": {
    "collapsed": false,
    "pycharm": {
     "name": "#%%\n"
    }
   }
  }
 ],
 "metadata": {
  "kernelspec": {
   "display_name": "Python 3",
   "language": "python",
   "name": "python3"
  },
  "language_info": {
   "codemirror_mode": {
    "name": "ipython",
    "version": 2
   },
   "file_extension": ".py",
   "mimetype": "text/x-python",
   "name": "python",
   "nbconvert_exporter": "python",
   "pygments_lexer": "ipython2",
   "version": "2.7.6"
  }
 },
 "nbformat": 4,
 "nbformat_minor": 0
}