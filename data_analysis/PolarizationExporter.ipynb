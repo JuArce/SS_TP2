{
 "cells": [
  {
   "cell_type": "code",
   "execution_count": 109,
   "outputs": [],
   "source": [
    "import pandas as pd\n",
    "import numpy as np\n",
    "from numpy import linalg as LA"
   ],
   "metadata": {
    "collapsed": false,
    "pycharm": {
     "name": "#%%\n"
    }
   }
  },
  {
   "cell_type": "code",
   "execution_count": 110,
   "outputs": [],
   "source": [
    "#Define Va function\n",
    "def calculate_va_i(angles,speeds,nparticles):\n",
    "    vx = np.inner(np.cos(angles),speeds)\n",
    "    vy = np.inner(np.sin(angles),speeds)\n",
    "    return LA.norm([vx,vy])/(nparticles*speed)"
   ],
   "metadata": {
    "collapsed": false,
    "pycharm": {
     "name": "#%%\n"
    }
   }
  },
  {
   "cell_type": "code",
   "execution_count": null,
   "outputs": [],
   "source": [
    "N = 1500\n",
    "L = 10\n",
    "noises = [0.0, 0.1, 0.5, 1.0, 1.5, 2.0, 3.0, 4.0, 5.0]\n",
    "num_files = list(noises)\n",
    "data_files = []\n",
    "for num_file in num_files:\n",
    "    data_files.append(pd.read_csv(f'../src/main/resources/output/parameters/output_N_{N}_L_{L}_n_{num_file}.csv'))\n",
    "data = data_files[0]"
   ],
   "metadata": {
    "collapsed": false,
    "pycharm": {
     "name": "#%%\n",
     "is_executing": true
    }
   }
  },
  {
   "cell_type": "code",
   "execution_count": null,
   "outputs": [],
   "source": [
    "# Create important variables\n",
    "n_particles = data['id'].max()\n",
    "speed = data.loc[0]['speed']"
   ],
   "metadata": {
    "collapsed": false,
    "pycharm": {
     "name": "#%%\n",
     "is_executing": true
    }
   }
  },
  {
   "cell_type": "code",
   "execution_count": null,
   "outputs": [],
   "source": [
    "list_final_data = []\n",
    "for i,file in enumerate(data_files):\n",
    "    aux = file.groupby('iteration').apply(lambda x: calculate_va_i(x['angle'],x['speed'],x['id'].max())).reset_index()\n",
    "    rename_dict = {'iteration': 'time', 0: f'n={num_files[i]}'}\n",
    "    aux = aux.rename(columns=rename_dict)\n",
    "    list_final_data.append(aux)\n",
    "list_final_data"
   ],
   "metadata": {
    "collapsed": false,
    "pycharm": {
     "name": "#%%\n",
     "is_executing": true
    }
   }
  },
  {
   "cell_type": "code",
   "execution_count": null,
   "outputs": [],
   "source": [
    "final_df = list_final_data.pop(0)\n",
    "num_files.pop(0)"
   ],
   "metadata": {
    "collapsed": false,
    "pycharm": {
     "name": "#%%\n",
     "is_executing": true
    }
   }
  },
  {
   "cell_type": "code",
   "execution_count": null,
   "outputs": [],
   "source": [
    "for i,elem in enumerate(list_final_data):\n",
    "    print(elem)\n",
    "    final_df = final_df.join(elem[f'n={num_files[i]}'])\n",
    "final_df"
   ],
   "metadata": {
    "collapsed": false,
    "pycharm": {
     "name": "#%%\n",
     "is_executing": true
    }
   }
  },
  {
   "cell_type": "code",
   "execution_count": null,
   "outputs": [],
   "source": [
    "final_df.to_csv(f\"./resources/observable_t_N_{N}_L{L}.csv\")"
   ],
   "metadata": {
    "collapsed": false,
    "pycharm": {
     "name": "#%%\n",
     "is_executing": true
    }
   }
  },
  {
   "cell_type": "code",
   "execution_count": null,
   "outputs": [],
   "source": [
    "list_final_data = []\n",
    "num_files = list(noises)\n",
    "print(len(num_files) == len(data_files))\n",
    "for i,file in enumerate(data_files):\n",
    "    aux = file.groupby('iteration').apply(lambda x: calculate_va_i(x['angle'],x['speed'],x['id'].max())).reset_index()\n",
    "    rename_dict = {'iteration': 'time', 0: f'va'}\n",
    "    aux = aux.rename(columns=rename_dict)\n",
    "    aux['noise'] = [f\"n={num_files[i]}\"] * len(aux)\n",
    "    list_final_data.append(aux)\n",
    "list_final_data"
   ],
   "metadata": {
    "collapsed": false,
    "pycharm": {
     "name": "#%%\n",
     "is_executing": true
    }
   }
  },
  {
   "cell_type": "code",
   "execution_count": null,
   "outputs": [],
   "source": [
    "final_df = list_final_data.pop(0).loc[1000:]\n",
    "num_files.pop(0)"
   ],
   "metadata": {
    "collapsed": false,
    "pycharm": {
     "name": "#%%\n",
     "is_executing": true
    }
   }
  },
  {
   "cell_type": "code",
   "execution_count": null,
   "outputs": [],
   "source": [
    "for i,elem in enumerate(list_final_data):\n",
    "    print(elem)\n",
    "    final_df = final_df.append(elem.loc[1000:])\n",
    "final_df"
   ],
   "metadata": {
    "collapsed": false,
    "pycharm": {
     "name": "#%%\n",
     "is_executing": true
    }
   }
  },
  {
   "cell_type": "code",
   "execution_count": null,
   "outputs": [],
   "source": [
    "final_df.to_csv(f\"./resources/observable_N_{N}_L{L}.csv\")"
   ],
   "metadata": {
    "collapsed": false,
    "pycharm": {
     "name": "#%%\n",
     "is_executing": true
    }
   }
  },
  {
   "cell_type": "code",
   "execution_count": null,
   "outputs": [],
   "source": [],
   "metadata": {
    "collapsed": false,
    "pycharm": {
     "name": "#%%\n",
     "is_executing": true
    }
   }
  }
 ],
 "metadata": {
  "kernelspec": {
   "display_name": "Python 3",
   "language": "python",
   "name": "python3"
  },
  "language_info": {
   "codemirror_mode": {
    "name": "ipython",
    "version": 2
   },
   "file_extension": ".py",
   "mimetype": "text/x-python",
   "name": "python",
   "nbconvert_exporter": "python",
   "pygments_lexer": "ipython2",
   "version": "2.7.6"
  }
 },
 "nbformat": 4,
 "nbformat_minor": 0
}