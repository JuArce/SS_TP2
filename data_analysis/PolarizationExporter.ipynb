{
 "cells": [
  {
   "cell_type": "code",
   "execution_count": 169,
   "outputs": [],
   "source": [
    "import pandas as pd\n",
    "import numpy as np\n",
    "from numpy import linalg as LA"
   ],
   "metadata": {
    "collapsed": false,
    "pycharm": {
     "name": "#%%\n"
    }
   }
  },
  {
   "cell_type": "code",
   "execution_count": 170,
   "outputs": [],
   "source": [
    "#Define Va function\n",
    "def calculate_va_i(angles,speeds,nparticles):\n",
    "    vx = np.inner(np.cos(angles),speeds)\n",
    "    vy = np.inner(np.sin(angles),speeds)\n",
    "    return LA.norm([vx,vy])/(nparticles*speed)"
   ],
   "metadata": {
    "collapsed": false,
    "pycharm": {
     "name": "#%%\n"
    }
   }
  },
  {
   "cell_type": "code",
   "execution_count": 171,
   "outputs": [],
   "source": [
    "num_files = [0.0, 0.1, 0.5, 1.0, 1.5, 2.0]\n",
    "data_files = []\n",
    "for num_file in num_files:\n",
    "    data_files.append(pd.read_csv(f'../src/main/resources/output/noise/output_n_{num_file}.csv'))\n",
    "data = data_files[0]"
   ],
   "metadata": {
    "collapsed": false,
    "pycharm": {
     "name": "#%%\n"
    }
   }
  },
  {
   "cell_type": "code",
   "execution_count": 172,
   "outputs": [],
   "source": [
    "# Create important variables\n",
    "n_particles = data['id'].max()\n",
    "speed = data.loc[0]['speed']"
   ],
   "metadata": {
    "collapsed": false,
    "pycharm": {
     "name": "#%%\n"
    }
   }
  },
  {
   "cell_type": "code",
   "execution_count": 173,
   "outputs": [
    {
     "data": {
      "text/plain": "[     time    va_0.0\n 0       0  0.043507\n 1       1  0.007273\n 2       2  0.027427\n 3       3  0.030526\n 4       4  0.033833\n ..    ...       ...\n 995   995  0.994806\n 996   996  0.994797\n 997   997  0.994852\n 998   998  0.994799\n 999   999  0.994840\n \n [1000 rows x 2 columns],\n      time    va_0.1\n 0       0  0.043507\n 1       1  0.008295\n 2       2  0.030165\n 3       3  0.033486\n 4       4  0.038495\n ..    ...       ...\n 995   995  0.962374\n 996   996  0.963139\n 997   997  0.963040\n 998   998  0.962643\n 999   999  0.963575\n \n [1000 rows x 2 columns],\n      time    va_0.5\n 0       0  0.043507\n 1       1  0.007390\n 2       2  0.014163\n 3       3  0.030989\n 4       4  0.037161\n ..    ...       ...\n 995   995  0.632367\n 996   996  0.639201\n 997   997  0.648068\n 998   998  0.645394\n 999   999  0.640189\n \n [1000 rows x 2 columns],\n      time    va_1.0\n 0       0  0.043507\n 1       1  0.025703\n 2       2  0.008119\n 3       3  0.016594\n 4       4  0.043278\n ..    ...       ...\n 995   995  0.148887\n 996   996  0.146150\n 997   997  0.186530\n 998   998  0.214396\n 999   999  0.223976\n \n [1000 rows x 2 columns],\n      time    va_1.5\n 0       0  0.043507\n 1       1  0.048727\n 2       2  0.057224\n 3       3  0.092130\n 4       4  0.097925\n ..    ...       ...\n 995   995  0.138949\n 996   996  0.123374\n 997   997  0.128601\n 998   998  0.110206\n 999   999  0.099718\n \n [1000 rows x 2 columns],\n      time    va_2.0\n 0       0  0.043507\n 1       1  0.023024\n 2       2  0.033514\n 3       3  0.033412\n 4       4  0.033361\n ..    ...       ...\n 995   995  0.044881\n 996   996  0.102264\n 997   997  0.128868\n 998   998  0.116987\n 999   999  0.110593\n \n [1000 rows x 2 columns]]"
     },
     "execution_count": 173,
     "metadata": {},
     "output_type": "execute_result"
    }
   ],
   "source": [
    "list_final_data = []\n",
    "for i,file in enumerate(data_files):\n",
    "    aux = file.groupby('iteration').apply(lambda x: calculate_va_i(x['angle'],x['speed'],x['id'].max())).reset_index()\n",
    "    rename_dict = {'iteration': 'time', 0: f'va_{num_files[i]}'}\n",
    "    aux = aux.rename(columns=rename_dict)\n",
    "    list_final_data.append(aux)\n",
    "list_final_data"
   ],
   "metadata": {
    "collapsed": false,
    "pycharm": {
     "name": "#%%\n"
    }
   }
  },
  {
   "cell_type": "code",
   "execution_count": 174,
   "outputs": [
    {
     "data": {
      "text/plain": "0.0"
     },
     "execution_count": 174,
     "metadata": {},
     "output_type": "execute_result"
    }
   ],
   "source": [
    "final_df = list_final_data.pop(0)\n",
    "num_files.pop(0)"
   ],
   "metadata": {
    "collapsed": false,
    "pycharm": {
     "name": "#%%\n"
    }
   }
  },
  {
   "cell_type": "code",
   "execution_count": 175,
   "outputs": [
    {
     "name": "stdout",
     "output_type": "stream",
     "text": [
      "     time    va_0.1\n",
      "0       0  0.043507\n",
      "1       1  0.008295\n",
      "2       2  0.030165\n",
      "3       3  0.033486\n",
      "4       4  0.038495\n",
      "..    ...       ...\n",
      "995   995  0.962374\n",
      "996   996  0.963139\n",
      "997   997  0.963040\n",
      "998   998  0.962643\n",
      "999   999  0.963575\n",
      "\n",
      "[1000 rows x 2 columns]\n",
      "     time    va_0.5\n",
      "0       0  0.043507\n",
      "1       1  0.007390\n",
      "2       2  0.014163\n",
      "3       3  0.030989\n",
      "4       4  0.037161\n",
      "..    ...       ...\n",
      "995   995  0.632367\n",
      "996   996  0.639201\n",
      "997   997  0.648068\n",
      "998   998  0.645394\n",
      "999   999  0.640189\n",
      "\n",
      "[1000 rows x 2 columns]\n",
      "     time    va_1.0\n",
      "0       0  0.043507\n",
      "1       1  0.025703\n",
      "2       2  0.008119\n",
      "3       3  0.016594\n",
      "4       4  0.043278\n",
      "..    ...       ...\n",
      "995   995  0.148887\n",
      "996   996  0.146150\n",
      "997   997  0.186530\n",
      "998   998  0.214396\n",
      "999   999  0.223976\n",
      "\n",
      "[1000 rows x 2 columns]\n",
      "     time    va_1.5\n",
      "0       0  0.043507\n",
      "1       1  0.048727\n",
      "2       2  0.057224\n",
      "3       3  0.092130\n",
      "4       4  0.097925\n",
      "..    ...       ...\n",
      "995   995  0.138949\n",
      "996   996  0.123374\n",
      "997   997  0.128601\n",
      "998   998  0.110206\n",
      "999   999  0.099718\n",
      "\n",
      "[1000 rows x 2 columns]\n",
      "     time    va_2.0\n",
      "0       0  0.043507\n",
      "1       1  0.023024\n",
      "2       2  0.033514\n",
      "3       3  0.033412\n",
      "4       4  0.033361\n",
      "..    ...       ...\n",
      "995   995  0.044881\n",
      "996   996  0.102264\n",
      "997   997  0.128868\n",
      "998   998  0.116987\n",
      "999   999  0.110593\n",
      "\n",
      "[1000 rows x 2 columns]\n"
     ]
    },
    {
     "data": {
      "text/plain": "     time    va_0.0    va_0.1    va_0.5    va_1.0    va_1.5    va_2.0\n0       0  0.043507  0.043507  0.043507  0.043507  0.043507  0.043507\n1       1  0.007273  0.008295  0.007390  0.025703  0.048727  0.023024\n2       2  0.027427  0.030165  0.014163  0.008119  0.057224  0.033514\n3       3  0.030526  0.033486  0.030989  0.016594  0.092130  0.033412\n4       4  0.033833  0.038495  0.037161  0.043278  0.097925  0.033361\n..    ...       ...       ...       ...       ...       ...       ...\n995   995  0.994806  0.962374  0.632367  0.148887  0.138949  0.044881\n996   996  0.994797  0.963139  0.639201  0.146150  0.123374  0.102264\n997   997  0.994852  0.963040  0.648068  0.186530  0.128601  0.128868\n998   998  0.994799  0.962643  0.645394  0.214396  0.110206  0.116987\n999   999  0.994840  0.963575  0.640189  0.223976  0.099718  0.110593\n\n[1000 rows x 7 columns]",
      "text/html": "<div>\n<style scoped>\n    .dataframe tbody tr th:only-of-type {\n        vertical-align: middle;\n    }\n\n    .dataframe tbody tr th {\n        vertical-align: top;\n    }\n\n    .dataframe thead th {\n        text-align: right;\n    }\n</style>\n<table border=\"1\" class=\"dataframe\">\n  <thead>\n    <tr style=\"text-align: right;\">\n      <th></th>\n      <th>time</th>\n      <th>va_0.0</th>\n      <th>va_0.1</th>\n      <th>va_0.5</th>\n      <th>va_1.0</th>\n      <th>va_1.5</th>\n      <th>va_2.0</th>\n    </tr>\n  </thead>\n  <tbody>\n    <tr>\n      <th>0</th>\n      <td>0</td>\n      <td>0.043507</td>\n      <td>0.043507</td>\n      <td>0.043507</td>\n      <td>0.043507</td>\n      <td>0.043507</td>\n      <td>0.043507</td>\n    </tr>\n    <tr>\n      <th>1</th>\n      <td>1</td>\n      <td>0.007273</td>\n      <td>0.008295</td>\n      <td>0.007390</td>\n      <td>0.025703</td>\n      <td>0.048727</td>\n      <td>0.023024</td>\n    </tr>\n    <tr>\n      <th>2</th>\n      <td>2</td>\n      <td>0.027427</td>\n      <td>0.030165</td>\n      <td>0.014163</td>\n      <td>0.008119</td>\n      <td>0.057224</td>\n      <td>0.033514</td>\n    </tr>\n    <tr>\n      <th>3</th>\n      <td>3</td>\n      <td>0.030526</td>\n      <td>0.033486</td>\n      <td>0.030989</td>\n      <td>0.016594</td>\n      <td>0.092130</td>\n      <td>0.033412</td>\n    </tr>\n    <tr>\n      <th>4</th>\n      <td>4</td>\n      <td>0.033833</td>\n      <td>0.038495</td>\n      <td>0.037161</td>\n      <td>0.043278</td>\n      <td>0.097925</td>\n      <td>0.033361</td>\n    </tr>\n    <tr>\n      <th>...</th>\n      <td>...</td>\n      <td>...</td>\n      <td>...</td>\n      <td>...</td>\n      <td>...</td>\n      <td>...</td>\n      <td>...</td>\n    </tr>\n    <tr>\n      <th>995</th>\n      <td>995</td>\n      <td>0.994806</td>\n      <td>0.962374</td>\n      <td>0.632367</td>\n      <td>0.148887</td>\n      <td>0.138949</td>\n      <td>0.044881</td>\n    </tr>\n    <tr>\n      <th>996</th>\n      <td>996</td>\n      <td>0.994797</td>\n      <td>0.963139</td>\n      <td>0.639201</td>\n      <td>0.146150</td>\n      <td>0.123374</td>\n      <td>0.102264</td>\n    </tr>\n    <tr>\n      <th>997</th>\n      <td>997</td>\n      <td>0.994852</td>\n      <td>0.963040</td>\n      <td>0.648068</td>\n      <td>0.186530</td>\n      <td>0.128601</td>\n      <td>0.128868</td>\n    </tr>\n    <tr>\n      <th>998</th>\n      <td>998</td>\n      <td>0.994799</td>\n      <td>0.962643</td>\n      <td>0.645394</td>\n      <td>0.214396</td>\n      <td>0.110206</td>\n      <td>0.116987</td>\n    </tr>\n    <tr>\n      <th>999</th>\n      <td>999</td>\n      <td>0.994840</td>\n      <td>0.963575</td>\n      <td>0.640189</td>\n      <td>0.223976</td>\n      <td>0.099718</td>\n      <td>0.110593</td>\n    </tr>\n  </tbody>\n</table>\n<p>1000 rows × 7 columns</p>\n</div>"
     },
     "execution_count": 175,
     "metadata": {},
     "output_type": "execute_result"
    }
   ],
   "source": [
    "for i,elem in enumerate(list_final_data):\n",
    "    print(elem)\n",
    "    final_df = final_df.join(elem[f'va_{num_files[i]}'])\n",
    "final_df"
   ],
   "metadata": {
    "collapsed": false,
    "pycharm": {
     "name": "#%%\n"
    }
   }
  },
  {
   "cell_type": "code",
   "execution_count": 176,
   "outputs": [],
   "source": [
    "final_df.to_csv(\"./resources/observable.csv\")"
   ],
   "metadata": {
    "collapsed": false,
    "pycharm": {
     "name": "#%%\n"
    }
   }
  },
  {
   "cell_type": "code",
   "execution_count": 176,
   "outputs": [],
   "source": [],
   "metadata": {
    "collapsed": false,
    "pycharm": {
     "name": "#%%\n"
    }
   }
  }
 ],
 "metadata": {
  "kernelspec": {
   "display_name": "Python 3",
   "language": "python",
   "name": "python3"
  },
  "language_info": {
   "codemirror_mode": {
    "name": "ipython",
    "version": 2
   },
   "file_extension": ".py",
   "mimetype": "text/x-python",
   "name": "python",
   "nbconvert_exporter": "python",
   "pygments_lexer": "ipython2",
   "version": "2.7.6"
  }
 },
 "nbformat": 4,
 "nbformat_minor": 0
}