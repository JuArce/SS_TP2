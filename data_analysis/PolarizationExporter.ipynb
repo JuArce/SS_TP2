{
 "cells": [
  {
   "cell_type": "code",
   "execution_count": 41,
   "outputs": [],
   "source": [
    "import pandas as pd\n",
    "import numpy as np\n",
    "from numpy import linalg as LA"
   ],
   "metadata": {
    "collapsed": false,
    "pycharm": {
     "name": "#%%\n"
    }
   }
  },
  {
   "cell_type": "code",
   "execution_count": 42,
   "outputs": [],
   "source": [
    "#Define Va function\n",
    "def calculate_va_i(angles,speeds,nparticles):\n",
    "    vx = np.inner(np.cos(angles),speeds)\n",
    "    vy = np.inner(np.sin(angles),speeds)\n",
    "    return LA.norm([vx,vy])/(nparticles*speed)"
   ],
   "metadata": {
    "collapsed": false,
    "pycharm": {
     "name": "#%%\n"
    }
   }
  },
  {
   "cell_type": "code",
   "execution_count": 43,
   "outputs": [],
   "source": [
    "N = 1500\n",
    "L = 10\n",
    "noises = [0.0, 0.1, 0.5, 1.0, 1.5, 2.0, 3.0, 4.0, 5.0]\n",
    "num_files = list(noises)\n",
    "data_files = []\n",
    "for num_file in num_files:\n",
    "    data_files.append(pd.read_csv(f'../src/main/resources/output/parameters/output_N_{N}_L_{L}_n_{num_file}.csv'))\n",
    "data = data_files[0]"
   ],
   "metadata": {
    "collapsed": false,
    "pycharm": {
     "name": "#%%\n"
    }
   }
  },
  {
   "cell_type": "code",
   "execution_count": 44,
   "outputs": [],
   "source": [
    "# Create important variables\n",
    "n_particles = data['id'].max()\n",
    "speed = data.loc[0]['speed']"
   ],
   "metadata": {
    "collapsed": false,
    "pycharm": {
     "name": "#%%\n"
    }
   }
  },
  {
   "cell_type": "code",
   "execution_count": 45,
   "outputs": [
    {
     "data": {
      "text/plain": "[      time     n=0.0\n 0        0  0.013053\n 1        1  0.049749\n 2        2  0.062957\n 3        3  0.031556\n 4        4  0.015954\n ...    ...       ...\n 1995  1995  1.000000\n 1996  1996  1.000000\n 1997  1997  1.000000\n 1998  1998  1.000000\n 1999  1999  1.000000\n \n [2000 rows x 2 columns],\n       time     n=0.1\n 0        0  0.017509\n 1        1  0.019257\n 2        2  0.019888\n 3        3  0.016188\n 4        4  0.019416\n ...    ...       ...\n 1995  1995  0.974777\n 1996  1996  0.974020\n 1997  1997  0.973549\n 1998  1998  0.973242\n 1999  1999  0.973031\n \n [2000 rows x 2 columns],\n       time     n=0.5\n 0        0  0.064219\n 1        1  0.197759\n 2        2  0.187884\n 3        3  0.199289\n 4        4  0.210379\n ...    ...       ...\n 1995  1995  0.652696\n 1996  1996  0.622766\n 1997  1997  0.615201\n 1998  1998  0.605379\n 1999  1999  0.600065\n \n [2000 rows x 2 columns],\n       time     n=1.0\n 0        0  0.002762\n 1        1  0.072527\n 2        2  0.083306\n 3        3  0.129514\n 4        4  0.131593\n ...    ...       ...\n 1995  1995  0.101429\n 1996  1996  0.096508\n 1997  1997  0.120532\n 1998  1998  0.115292\n 1999  1999  0.104894\n \n [2000 rows x 2 columns],\n       time     n=1.5\n 0        0  0.015980\n 1        1  0.072557\n 2        2  0.077480\n 3        3  0.051020\n 4        4  0.016130\n ...    ...       ...\n 1995  1995  0.125112\n 1996  1996  0.129110\n 1997  1997  0.115323\n 1998  1998  0.106107\n 1999  1999  0.085006\n \n [2000 rows x 2 columns],\n       time     n=2.0\n 0        0  0.035817\n 1        1  0.144732\n 2        2  0.144800\n 3        3  0.157873\n 4        4  0.179826\n ...    ...       ...\n 1995  1995  0.048436\n 1996  1996  0.044326\n 1997  1997  0.051812\n 1998  1998  0.123521\n 1999  1999  0.172295\n \n [2000 rows x 2 columns],\n       time     n=3.0\n 0        0  0.020360\n 1        1  0.077767\n 2        2  0.104865\n 3        3  0.136953\n 4        4  0.179157\n ...    ...       ...\n 1995  1995  0.113825\n 1996  1996  0.085075\n 1997  1997  0.045152\n 1998  1998  0.044205\n 1999  1999  0.059271\n \n [2000 rows x 2 columns],\n       time     n=4.0\n 0        0  0.016972\n 1        1  0.020691\n 2        2  0.018001\n 3        3  0.031312\n 4        4  0.040088\n ...    ...       ...\n 1995  1995  0.051335\n 1996  1996  0.079120\n 1997  1997  0.021539\n 1998  1998  0.061190\n 1999  1999  0.036003\n \n [2000 rows x 2 columns],\n       time     n=5.0\n 0        0  0.035976\n 1        1  0.023916\n 2        2  0.034202\n 3        3  0.012348\n 4        4  0.012572\n ...    ...       ...\n 1995  1995  0.050863\n 1996  1996  0.026021\n 1997  1997  0.048177\n 1998  1998  0.021249\n 1999  1999  0.034903\n \n [2000 rows x 2 columns]]"
     },
     "execution_count": 45,
     "metadata": {},
     "output_type": "execute_result"
    }
   ],
   "source": [
    "list_final_data = []\n",
    "for i,file in enumerate(data_files):\n",
    "    aux = file.groupby('iteration').apply(lambda x: calculate_va_i(x['angle'],x['speed'],x['id'].max())).reset_index()\n",
    "    rename_dict = {'iteration': 'time', 0: f'n={num_files[i]}'}\n",
    "    aux = aux.rename(columns=rename_dict)\n",
    "    list_final_data.append(aux)\n",
    "list_final_data"
   ],
   "metadata": {
    "collapsed": false,
    "pycharm": {
     "name": "#%%\n"
    }
   }
  },
  {
   "cell_type": "code",
   "execution_count": 46,
   "outputs": [
    {
     "data": {
      "text/plain": "0.0"
     },
     "execution_count": 46,
     "metadata": {},
     "output_type": "execute_result"
    }
   ],
   "source": [
    "final_df = list_final_data.pop(0)\n",
    "num_files.pop(0)"
   ],
   "metadata": {
    "collapsed": false,
    "pycharm": {
     "name": "#%%\n"
    }
   }
  },
  {
   "cell_type": "code",
   "execution_count": 47,
   "outputs": [
    {
     "name": "stdout",
     "output_type": "stream",
     "text": [
      "      time     n=0.1\n",
      "0        0  0.017509\n",
      "1        1  0.019257\n",
      "2        2  0.019888\n",
      "3        3  0.016188\n",
      "4        4  0.019416\n",
      "...    ...       ...\n",
      "1995  1995  0.974777\n",
      "1996  1996  0.974020\n",
      "1997  1997  0.973549\n",
      "1998  1998  0.973242\n",
      "1999  1999  0.973031\n",
      "\n",
      "[2000 rows x 2 columns]\n",
      "      time     n=0.5\n",
      "0        0  0.064219\n",
      "1        1  0.197759\n",
      "2        2  0.187884\n",
      "3        3  0.199289\n",
      "4        4  0.210379\n",
      "...    ...       ...\n",
      "1995  1995  0.652696\n",
      "1996  1996  0.622766\n",
      "1997  1997  0.615201\n",
      "1998  1998  0.605379\n",
      "1999  1999  0.600065\n",
      "\n",
      "[2000 rows x 2 columns]\n",
      "      time     n=1.0\n",
      "0        0  0.002762\n",
      "1        1  0.072527\n",
      "2        2  0.083306\n",
      "3        3  0.129514\n",
      "4        4  0.131593\n",
      "...    ...       ...\n",
      "1995  1995  0.101429\n",
      "1996  1996  0.096508\n",
      "1997  1997  0.120532\n",
      "1998  1998  0.115292\n",
      "1999  1999  0.104894\n",
      "\n",
      "[2000 rows x 2 columns]\n",
      "      time     n=1.5\n",
      "0        0  0.015980\n",
      "1        1  0.072557\n",
      "2        2  0.077480\n",
      "3        3  0.051020\n",
      "4        4  0.016130\n",
      "...    ...       ...\n",
      "1995  1995  0.125112\n",
      "1996  1996  0.129110\n",
      "1997  1997  0.115323\n",
      "1998  1998  0.106107\n",
      "1999  1999  0.085006\n",
      "\n",
      "[2000 rows x 2 columns]\n",
      "      time     n=2.0\n",
      "0        0  0.035817\n",
      "1        1  0.144732\n",
      "2        2  0.144800\n",
      "3        3  0.157873\n",
      "4        4  0.179826\n",
      "...    ...       ...\n",
      "1995  1995  0.048436\n",
      "1996  1996  0.044326\n",
      "1997  1997  0.051812\n",
      "1998  1998  0.123521\n",
      "1999  1999  0.172295\n",
      "\n",
      "[2000 rows x 2 columns]\n",
      "      time     n=3.0\n",
      "0        0  0.020360\n",
      "1        1  0.077767\n",
      "2        2  0.104865\n",
      "3        3  0.136953\n",
      "4        4  0.179157\n",
      "...    ...       ...\n",
      "1995  1995  0.113825\n",
      "1996  1996  0.085075\n",
      "1997  1997  0.045152\n",
      "1998  1998  0.044205\n",
      "1999  1999  0.059271\n",
      "\n",
      "[2000 rows x 2 columns]\n",
      "      time     n=4.0\n",
      "0        0  0.016972\n",
      "1        1  0.020691\n",
      "2        2  0.018001\n",
      "3        3  0.031312\n",
      "4        4  0.040088\n",
      "...    ...       ...\n",
      "1995  1995  0.051335\n",
      "1996  1996  0.079120\n",
      "1997  1997  0.021539\n",
      "1998  1998  0.061190\n",
      "1999  1999  0.036003\n",
      "\n",
      "[2000 rows x 2 columns]\n",
      "      time     n=5.0\n",
      "0        0  0.035976\n",
      "1        1  0.023916\n",
      "2        2  0.034202\n",
      "3        3  0.012348\n",
      "4        4  0.012572\n",
      "...    ...       ...\n",
      "1995  1995  0.050863\n",
      "1996  1996  0.026021\n",
      "1997  1997  0.048177\n",
      "1998  1998  0.021249\n",
      "1999  1999  0.034903\n",
      "\n",
      "[2000 rows x 2 columns]\n"
     ]
    }
   ],
   "source": [
    "\n",
    "for i,elem in enumerate(list_final_data):\n",
    "    print(elem)\n",
    "    final_df = final_df.join(elem[f'n={num_files[i]}'])\n",
    "final_df_csv = final_df"
   ],
   "metadata": {
    "collapsed": false,
    "pycharm": {
     "name": "#%%\n"
    }
   }
  },
  {
   "cell_type": "code",
   "execution_count": 48,
   "outputs": [],
   "source": [
    "final_df.to_csv(f\"./resources/observable_t_N_{N}_L{L}.csv\")"
   ],
   "metadata": {
    "collapsed": false,
    "pycharm": {
     "name": "#%%\n"
    }
   }
  },
  {
   "cell_type": "code",
   "execution_count": 49,
   "outputs": [
    {
     "data": {
      "text/plain": "      time     n=0.0     n=0.1     n=0.5     n=1.0     n=1.5     n=2.0  \\\n0        0  0.013053  0.017509  0.064219  0.002762  0.015980  0.035817   \n1        1  0.049749  0.019257  0.197759  0.072527  0.072557  0.144732   \n2        2  0.062957  0.019888  0.187884  0.083306  0.077480  0.144800   \n3        3  0.031556  0.016188  0.199289  0.129514  0.051020  0.157873   \n4        4  0.015954  0.019416  0.210379  0.131593  0.016130  0.179826   \n...    ...       ...       ...       ...       ...       ...       ...   \n1995  1995  1.000000  0.974777  0.652696  0.101429  0.125112  0.048436   \n1996  1996  1.000000  0.974020  0.622766  0.096508  0.129110  0.044326   \n1997  1997  1.000000  0.973549  0.615201  0.120532  0.115323  0.051812   \n1998  1998  1.000000  0.973242  0.605379  0.115292  0.106107  0.123521   \n1999  1999  1.000000  0.973031  0.600065  0.104894  0.085006  0.172295   \n\n         n=3.0     n=4.0     n=5.0  \n0     0.020360  0.016972  0.035976  \n1     0.077767  0.020691  0.023916  \n2     0.104865  0.018001  0.034202  \n3     0.136953  0.031312  0.012348  \n4     0.179157  0.040088  0.012572  \n...        ...       ...       ...  \n1995  0.113825  0.051335  0.050863  \n1996  0.085075  0.079120  0.026021  \n1997  0.045152  0.021539  0.048177  \n1998  0.044205  0.061190  0.021249  \n1999  0.059271  0.036003  0.034903  \n\n[2000 rows x 10 columns]",
      "text/html": "<div>\n<style scoped>\n    .dataframe tbody tr th:only-of-type {\n        vertical-align: middle;\n    }\n\n    .dataframe tbody tr th {\n        vertical-align: top;\n    }\n\n    .dataframe thead th {\n        text-align: right;\n    }\n</style>\n<table border=\"1\" class=\"dataframe\">\n  <thead>\n    <tr style=\"text-align: right;\">\n      <th></th>\n      <th>time</th>\n      <th>n=0.0</th>\n      <th>n=0.1</th>\n      <th>n=0.5</th>\n      <th>n=1.0</th>\n      <th>n=1.5</th>\n      <th>n=2.0</th>\n      <th>n=3.0</th>\n      <th>n=4.0</th>\n      <th>n=5.0</th>\n    </tr>\n  </thead>\n  <tbody>\n    <tr>\n      <th>0</th>\n      <td>0</td>\n      <td>0.013053</td>\n      <td>0.017509</td>\n      <td>0.064219</td>\n      <td>0.002762</td>\n      <td>0.015980</td>\n      <td>0.035817</td>\n      <td>0.020360</td>\n      <td>0.016972</td>\n      <td>0.035976</td>\n    </tr>\n    <tr>\n      <th>1</th>\n      <td>1</td>\n      <td>0.049749</td>\n      <td>0.019257</td>\n      <td>0.197759</td>\n      <td>0.072527</td>\n      <td>0.072557</td>\n      <td>0.144732</td>\n      <td>0.077767</td>\n      <td>0.020691</td>\n      <td>0.023916</td>\n    </tr>\n    <tr>\n      <th>2</th>\n      <td>2</td>\n      <td>0.062957</td>\n      <td>0.019888</td>\n      <td>0.187884</td>\n      <td>0.083306</td>\n      <td>0.077480</td>\n      <td>0.144800</td>\n      <td>0.104865</td>\n      <td>0.018001</td>\n      <td>0.034202</td>\n    </tr>\n    <tr>\n      <th>3</th>\n      <td>3</td>\n      <td>0.031556</td>\n      <td>0.016188</td>\n      <td>0.199289</td>\n      <td>0.129514</td>\n      <td>0.051020</td>\n      <td>0.157873</td>\n      <td>0.136953</td>\n      <td>0.031312</td>\n      <td>0.012348</td>\n    </tr>\n    <tr>\n      <th>4</th>\n      <td>4</td>\n      <td>0.015954</td>\n      <td>0.019416</td>\n      <td>0.210379</td>\n      <td>0.131593</td>\n      <td>0.016130</td>\n      <td>0.179826</td>\n      <td>0.179157</td>\n      <td>0.040088</td>\n      <td>0.012572</td>\n    </tr>\n    <tr>\n      <th>...</th>\n      <td>...</td>\n      <td>...</td>\n      <td>...</td>\n      <td>...</td>\n      <td>...</td>\n      <td>...</td>\n      <td>...</td>\n      <td>...</td>\n      <td>...</td>\n      <td>...</td>\n    </tr>\n    <tr>\n      <th>1995</th>\n      <td>1995</td>\n      <td>1.000000</td>\n      <td>0.974777</td>\n      <td>0.652696</td>\n      <td>0.101429</td>\n      <td>0.125112</td>\n      <td>0.048436</td>\n      <td>0.113825</td>\n      <td>0.051335</td>\n      <td>0.050863</td>\n    </tr>\n    <tr>\n      <th>1996</th>\n      <td>1996</td>\n      <td>1.000000</td>\n      <td>0.974020</td>\n      <td>0.622766</td>\n      <td>0.096508</td>\n      <td>0.129110</td>\n      <td>0.044326</td>\n      <td>0.085075</td>\n      <td>0.079120</td>\n      <td>0.026021</td>\n    </tr>\n    <tr>\n      <th>1997</th>\n      <td>1997</td>\n      <td>1.000000</td>\n      <td>0.973549</td>\n      <td>0.615201</td>\n      <td>0.120532</td>\n      <td>0.115323</td>\n      <td>0.051812</td>\n      <td>0.045152</td>\n      <td>0.021539</td>\n      <td>0.048177</td>\n    </tr>\n    <tr>\n      <th>1998</th>\n      <td>1998</td>\n      <td>1.000000</td>\n      <td>0.973242</td>\n      <td>0.605379</td>\n      <td>0.115292</td>\n      <td>0.106107</td>\n      <td>0.123521</td>\n      <td>0.044205</td>\n      <td>0.061190</td>\n      <td>0.021249</td>\n    </tr>\n    <tr>\n      <th>1999</th>\n      <td>1999</td>\n      <td>1.000000</td>\n      <td>0.973031</td>\n      <td>0.600065</td>\n      <td>0.104894</td>\n      <td>0.085006</td>\n      <td>0.172295</td>\n      <td>0.059271</td>\n      <td>0.036003</td>\n      <td>0.034903</td>\n    </tr>\n  </tbody>\n</table>\n<p>2000 rows × 10 columns</p>\n</div>"
     },
     "execution_count": 49,
     "metadata": {},
     "output_type": "execute_result"
    }
   ],
   "source": [
    "final_df"
   ],
   "metadata": {
    "collapsed": false,
    "pycharm": {
     "name": "#%%\n"
    }
   }
  },
  {
   "cell_type": "code",
   "execution_count": 50,
   "outputs": [
    {
     "data": {
      "text/plain": "[0.9535482312735476,\n 0.9539051909788,\n 0.6540200075371372,\n 0.26477764351886096,\n 0.14162590158511854,\n 0.1083856173410974,\n 0.07911105507746061,\n 0.0516485550976835,\n 0.0335948658084564]"
     },
     "execution_count": 50,
     "metadata": {},
     "output_type": "execute_result"
    }
   ],
   "source": [
    "mean_list = []\n",
    "aux_num_files = list(noises)\n",
    "for n in aux_num_files:\n",
    "    mean_list.append(final_df[f'n={n}'].mean())\n",
    "mean_list"
   ],
   "metadata": {
    "collapsed": false,
    "pycharm": {
     "name": "#%%\n"
    }
   }
  },
  {
   "cell_type": "code",
   "execution_count": 51,
   "outputs": [
    {
     "data": {
      "text/plain": "   noise    N=1500\n0    0.0  0.953548\n1    0.1  0.953905\n2    0.5  0.654020\n3    1.0  0.264778\n4    1.5  0.141626\n5    2.0  0.108386\n6    3.0  0.079111\n7    4.0  0.051649\n8    5.0  0.033595",
      "text/html": "<div>\n<style scoped>\n    .dataframe tbody tr th:only-of-type {\n        vertical-align: middle;\n    }\n\n    .dataframe tbody tr th {\n        vertical-align: top;\n    }\n\n    .dataframe thead th {\n        text-align: right;\n    }\n</style>\n<table border=\"1\" class=\"dataframe\">\n  <thead>\n    <tr style=\"text-align: right;\">\n      <th></th>\n      <th>noise</th>\n      <th>N=1500</th>\n    </tr>\n  </thead>\n  <tbody>\n    <tr>\n      <th>0</th>\n      <td>0.0</td>\n      <td>0.953548</td>\n    </tr>\n    <tr>\n      <th>1</th>\n      <td>0.1</td>\n      <td>0.953905</td>\n    </tr>\n    <tr>\n      <th>2</th>\n      <td>0.5</td>\n      <td>0.654020</td>\n    </tr>\n    <tr>\n      <th>3</th>\n      <td>1.0</td>\n      <td>0.264778</td>\n    </tr>\n    <tr>\n      <th>4</th>\n      <td>1.5</td>\n      <td>0.141626</td>\n    </tr>\n    <tr>\n      <th>5</th>\n      <td>2.0</td>\n      <td>0.108386</td>\n    </tr>\n    <tr>\n      <th>6</th>\n      <td>3.0</td>\n      <td>0.079111</td>\n    </tr>\n    <tr>\n      <th>7</th>\n      <td>4.0</td>\n      <td>0.051649</td>\n    </tr>\n    <tr>\n      <th>8</th>\n      <td>5.0</td>\n      <td>0.033595</td>\n    </tr>\n  </tbody>\n</table>\n</div>"
     },
     "execution_count": 51,
     "metadata": {},
     "output_type": "execute_result"
    }
   ],
   "source": [
    "mean_df = pd.DataFrame(columns=[\"noise\",f'N={N}'])\n",
    "mean_df[f'N={N}'] = mean_list\n",
    "mean_df[\"noise\"] = noises\n",
    "mean_df"
   ],
   "metadata": {
    "collapsed": false,
    "pycharm": {
     "name": "#%%\n"
    }
   }
  },
  {
   "cell_type": "code",
   "execution_count": 52,
   "outputs": [],
   "source": [
    "mean_df.to_csv(f\"./resources/observable_n_N_{N}_L{L}.csv\",index=False)"
   ],
   "metadata": {
    "collapsed": false,
    "pycharm": {
     "name": "#%%\n"
    }
   }
  },
  {
   "cell_type": "code",
   "execution_count": 53,
   "outputs": [
    {
     "name": "stdout",
     "output_type": "stream",
     "text": [
      "True\n"
     ]
    },
    {
     "data": {
      "text/plain": "[      time        va  noise\n 0        0  0.013053  n=0.0\n 1        1  0.049749  n=0.0\n 2        2  0.062957  n=0.0\n 3        3  0.031556  n=0.0\n 4        4  0.015954  n=0.0\n ...    ...       ...    ...\n 1995  1995  1.000000  n=0.0\n 1996  1996  1.000000  n=0.0\n 1997  1997  1.000000  n=0.0\n 1998  1998  1.000000  n=0.0\n 1999  1999  1.000000  n=0.0\n \n [2000 rows x 3 columns],\n       time        va  noise\n 0        0  0.017509  n=0.1\n 1        1  0.019257  n=0.1\n 2        2  0.019888  n=0.1\n 3        3  0.016188  n=0.1\n 4        4  0.019416  n=0.1\n ...    ...       ...    ...\n 1995  1995  0.974777  n=0.1\n 1996  1996  0.974020  n=0.1\n 1997  1997  0.973549  n=0.1\n 1998  1998  0.973242  n=0.1\n 1999  1999  0.973031  n=0.1\n \n [2000 rows x 3 columns],\n       time        va  noise\n 0        0  0.064219  n=0.5\n 1        1  0.197759  n=0.5\n 2        2  0.187884  n=0.5\n 3        3  0.199289  n=0.5\n 4        4  0.210379  n=0.5\n ...    ...       ...    ...\n 1995  1995  0.652696  n=0.5\n 1996  1996  0.622766  n=0.5\n 1997  1997  0.615201  n=0.5\n 1998  1998  0.605379  n=0.5\n 1999  1999  0.600065  n=0.5\n \n [2000 rows x 3 columns],\n       time        va  noise\n 0        0  0.002762  n=1.0\n 1        1  0.072527  n=1.0\n 2        2  0.083306  n=1.0\n 3        3  0.129514  n=1.0\n 4        4  0.131593  n=1.0\n ...    ...       ...    ...\n 1995  1995  0.101429  n=1.0\n 1996  1996  0.096508  n=1.0\n 1997  1997  0.120532  n=1.0\n 1998  1998  0.115292  n=1.0\n 1999  1999  0.104894  n=1.0\n \n [2000 rows x 3 columns],\n       time        va  noise\n 0        0  0.015980  n=1.5\n 1        1  0.072557  n=1.5\n 2        2  0.077480  n=1.5\n 3        3  0.051020  n=1.5\n 4        4  0.016130  n=1.5\n ...    ...       ...    ...\n 1995  1995  0.125112  n=1.5\n 1996  1996  0.129110  n=1.5\n 1997  1997  0.115323  n=1.5\n 1998  1998  0.106107  n=1.5\n 1999  1999  0.085006  n=1.5\n \n [2000 rows x 3 columns],\n       time        va  noise\n 0        0  0.035817  n=2.0\n 1        1  0.144732  n=2.0\n 2        2  0.144800  n=2.0\n 3        3  0.157873  n=2.0\n 4        4  0.179826  n=2.0\n ...    ...       ...    ...\n 1995  1995  0.048436  n=2.0\n 1996  1996  0.044326  n=2.0\n 1997  1997  0.051812  n=2.0\n 1998  1998  0.123521  n=2.0\n 1999  1999  0.172295  n=2.0\n \n [2000 rows x 3 columns],\n       time        va  noise\n 0        0  0.020360  n=3.0\n 1        1  0.077767  n=3.0\n 2        2  0.104865  n=3.0\n 3        3  0.136953  n=3.0\n 4        4  0.179157  n=3.0\n ...    ...       ...    ...\n 1995  1995  0.113825  n=3.0\n 1996  1996  0.085075  n=3.0\n 1997  1997  0.045152  n=3.0\n 1998  1998  0.044205  n=3.0\n 1999  1999  0.059271  n=3.0\n \n [2000 rows x 3 columns],\n       time        va  noise\n 0        0  0.016972  n=4.0\n 1        1  0.020691  n=4.0\n 2        2  0.018001  n=4.0\n 3        3  0.031312  n=4.0\n 4        4  0.040088  n=4.0\n ...    ...       ...    ...\n 1995  1995  0.051335  n=4.0\n 1996  1996  0.079120  n=4.0\n 1997  1997  0.021539  n=4.0\n 1998  1998  0.061190  n=4.0\n 1999  1999  0.036003  n=4.0\n \n [2000 rows x 3 columns],\n       time        va  noise\n 0        0  0.035976  n=5.0\n 1        1  0.023916  n=5.0\n 2        2  0.034202  n=5.0\n 3        3  0.012348  n=5.0\n 4        4  0.012572  n=5.0\n ...    ...       ...    ...\n 1995  1995  0.050863  n=5.0\n 1996  1996  0.026021  n=5.0\n 1997  1997  0.048177  n=5.0\n 1998  1998  0.021249  n=5.0\n 1999  1999  0.034903  n=5.0\n \n [2000 rows x 3 columns]]"
     },
     "execution_count": 53,
     "metadata": {},
     "output_type": "execute_result"
    }
   ],
   "source": [
    "list_final_data = []\n",
    "num_files = list(noises)\n",
    "print(len(num_files) == len(data_files))\n",
    "for i,file in enumerate(data_files):\n",
    "    aux = file.groupby('iteration').apply(lambda x: calculate_va_i(x['angle'],x['speed'],x['id'].max())).reset_index()\n",
    "    rename_dict = {'iteration': 'time', 0: f'va'}\n",
    "    aux = aux.rename(columns=rename_dict)\n",
    "    aux['noise'] = [f\"n={num_files[i]}\"] * len(aux)\n",
    "    list_final_data.append(aux)\n",
    "list_final_data"
   ],
   "metadata": {
    "collapsed": false,
    "pycharm": {
     "name": "#%%\n"
    }
   }
  },
  {
   "cell_type": "code",
   "execution_count": 54,
   "outputs": [
    {
     "data": {
      "text/plain": "0.0"
     },
     "execution_count": 54,
     "metadata": {},
     "output_type": "execute_result"
    }
   ],
   "source": [
    "final_df = list_final_data.pop(0).loc[1000:]\n",
    "num_files.pop(0)"
   ],
   "metadata": {
    "collapsed": false,
    "pycharm": {
     "name": "#%%\n"
    }
   }
  },
  {
   "cell_type": "code",
   "execution_count": 55,
   "outputs": [
    {
     "name": "stdout",
     "output_type": "stream",
     "text": [
      "      time        va  noise\n",
      "0        0  0.017509  n=0.1\n",
      "1        1  0.019257  n=0.1\n",
      "2        2  0.019888  n=0.1\n",
      "3        3  0.016188  n=0.1\n",
      "4        4  0.019416  n=0.1\n",
      "...    ...       ...    ...\n",
      "1995  1995  0.974777  n=0.1\n",
      "1996  1996  0.974020  n=0.1\n",
      "1997  1997  0.973549  n=0.1\n",
      "1998  1998  0.973242  n=0.1\n",
      "1999  1999  0.973031  n=0.1\n",
      "\n",
      "[2000 rows x 3 columns]\n",
      "      time        va  noise\n",
      "0        0  0.064219  n=0.5\n",
      "1        1  0.197759  n=0.5\n",
      "2        2  0.187884  n=0.5\n",
      "3        3  0.199289  n=0.5\n",
      "4        4  0.210379  n=0.5\n",
      "...    ...       ...    ...\n",
      "1995  1995  0.652696  n=0.5\n",
      "1996  1996  0.622766  n=0.5\n",
      "1997  1997  0.615201  n=0.5\n",
      "1998  1998  0.605379  n=0.5\n",
      "1999  1999  0.600065  n=0.5\n",
      "\n",
      "[2000 rows x 3 columns]\n",
      "      time        va  noise\n",
      "0        0  0.002762  n=1.0\n",
      "1        1  0.072527  n=1.0\n",
      "2        2  0.083306  n=1.0\n",
      "3        3  0.129514  n=1.0\n",
      "4        4  0.131593  n=1.0\n",
      "...    ...       ...    ...\n",
      "1995  1995  0.101429  n=1.0\n",
      "1996  1996  0.096508  n=1.0\n",
      "1997  1997  0.120532  n=1.0\n",
      "1998  1998  0.115292  n=1.0\n",
      "1999  1999  0.104894  n=1.0\n",
      "\n",
      "[2000 rows x 3 columns]\n",
      "      time        va  noise\n",
      "0        0  0.015980  n=1.5\n",
      "1        1  0.072557  n=1.5\n",
      "2        2  0.077480  n=1.5\n",
      "3        3  0.051020  n=1.5\n",
      "4        4  0.016130  n=1.5\n",
      "...    ...       ...    ...\n",
      "1995  1995  0.125112  n=1.5\n",
      "1996  1996  0.129110  n=1.5\n",
      "1997  1997  0.115323  n=1.5\n",
      "1998  1998  0.106107  n=1.5\n",
      "1999  1999  0.085006  n=1.5\n",
      "\n",
      "[2000 rows x 3 columns]\n",
      "      time        va  noise\n",
      "0        0  0.035817  n=2.0\n",
      "1        1  0.144732  n=2.0\n",
      "2        2  0.144800  n=2.0\n",
      "3        3  0.157873  n=2.0\n",
      "4        4  0.179826  n=2.0\n",
      "...    ...       ...    ...\n",
      "1995  1995  0.048436  n=2.0\n",
      "1996  1996  0.044326  n=2.0\n",
      "1997  1997  0.051812  n=2.0\n",
      "1998  1998  0.123521  n=2.0\n",
      "1999  1999  0.172295  n=2.0\n",
      "\n",
      "[2000 rows x 3 columns]\n",
      "      time        va  noise\n",
      "0        0  0.020360  n=3.0\n",
      "1        1  0.077767  n=3.0\n",
      "2        2  0.104865  n=3.0\n",
      "3        3  0.136953  n=3.0\n",
      "4        4  0.179157  n=3.0\n",
      "...    ...       ...    ...\n",
      "1995  1995  0.113825  n=3.0\n",
      "1996  1996  0.085075  n=3.0\n",
      "1997  1997  0.045152  n=3.0\n",
      "1998  1998  0.044205  n=3.0\n",
      "1999  1999  0.059271  n=3.0\n",
      "\n",
      "[2000 rows x 3 columns]\n",
      "      time        va  noise\n",
      "0        0  0.016972  n=4.0\n",
      "1        1  0.020691  n=4.0\n",
      "2        2  0.018001  n=4.0\n",
      "3        3  0.031312  n=4.0\n",
      "4        4  0.040088  n=4.0\n",
      "...    ...       ...    ...\n",
      "1995  1995  0.051335  n=4.0\n",
      "1996  1996  0.079120  n=4.0\n",
      "1997  1997  0.021539  n=4.0\n",
      "1998  1998  0.061190  n=4.0\n",
      "1999  1999  0.036003  n=4.0\n",
      "\n",
      "[2000 rows x 3 columns]\n",
      "      time        va  noise\n",
      "0        0  0.035976  n=5.0\n",
      "1        1  0.023916  n=5.0\n",
      "2        2  0.034202  n=5.0\n",
      "3        3  0.012348  n=5.0\n",
      "4        4  0.012572  n=5.0\n",
      "...    ...       ...    ...\n",
      "1995  1995  0.050863  n=5.0\n",
      "1996  1996  0.026021  n=5.0\n",
      "1997  1997  0.048177  n=5.0\n",
      "1998  1998  0.021249  n=5.0\n",
      "1999  1999  0.034903  n=5.0\n",
      "\n",
      "[2000 rows x 3 columns]\n"
     ]
    },
    {
     "name": "stderr",
     "output_type": "stream",
     "text": [
      "/var/folders/ld/9r7b_z792271p_ycsc8k24240000gn/T/ipykernel_8214/1220949568.py:3: FutureWarning: The frame.append method is deprecated and will be removed from pandas in a future version. Use pandas.concat instead.\n",
      "  final_df = final_df.append(elem.loc[1000:])\n",
      "/var/folders/ld/9r7b_z792271p_ycsc8k24240000gn/T/ipykernel_8214/1220949568.py:3: FutureWarning: The frame.append method is deprecated and will be removed from pandas in a future version. Use pandas.concat instead.\n",
      "  final_df = final_df.append(elem.loc[1000:])\n",
      "/var/folders/ld/9r7b_z792271p_ycsc8k24240000gn/T/ipykernel_8214/1220949568.py:3: FutureWarning: The frame.append method is deprecated and will be removed from pandas in a future version. Use pandas.concat instead.\n",
      "  final_df = final_df.append(elem.loc[1000:])\n",
      "/var/folders/ld/9r7b_z792271p_ycsc8k24240000gn/T/ipykernel_8214/1220949568.py:3: FutureWarning: The frame.append method is deprecated and will be removed from pandas in a future version. Use pandas.concat instead.\n",
      "  final_df = final_df.append(elem.loc[1000:])\n",
      "/var/folders/ld/9r7b_z792271p_ycsc8k24240000gn/T/ipykernel_8214/1220949568.py:3: FutureWarning: The frame.append method is deprecated and will be removed from pandas in a future version. Use pandas.concat instead.\n",
      "  final_df = final_df.append(elem.loc[1000:])\n",
      "/var/folders/ld/9r7b_z792271p_ycsc8k24240000gn/T/ipykernel_8214/1220949568.py:3: FutureWarning: The frame.append method is deprecated and will be removed from pandas in a future version. Use pandas.concat instead.\n",
      "  final_df = final_df.append(elem.loc[1000:])\n",
      "/var/folders/ld/9r7b_z792271p_ycsc8k24240000gn/T/ipykernel_8214/1220949568.py:3: FutureWarning: The frame.append method is deprecated and will be removed from pandas in a future version. Use pandas.concat instead.\n",
      "  final_df = final_df.append(elem.loc[1000:])\n",
      "/var/folders/ld/9r7b_z792271p_ycsc8k24240000gn/T/ipykernel_8214/1220949568.py:3: FutureWarning: The frame.append method is deprecated and will be removed from pandas in a future version. Use pandas.concat instead.\n",
      "  final_df = final_df.append(elem.loc[1000:])\n"
     ]
    },
    {
     "data": {
      "text/plain": "      time        va  noise\n1000  1000  0.999880  n=0.0\n1001  1001  0.999885  n=0.0\n1002  1002  0.999886  n=0.0\n1003  1003  0.999895  n=0.0\n1004  1004  0.999896  n=0.0\n...    ...       ...    ...\n1995  1995  0.050863  n=5.0\n1996  1996  0.026021  n=5.0\n1997  1997  0.048177  n=5.0\n1998  1998  0.021249  n=5.0\n1999  1999  0.034903  n=5.0\n\n[9000 rows x 3 columns]",
      "text/html": "<div>\n<style scoped>\n    .dataframe tbody tr th:only-of-type {\n        vertical-align: middle;\n    }\n\n    .dataframe tbody tr th {\n        vertical-align: top;\n    }\n\n    .dataframe thead th {\n        text-align: right;\n    }\n</style>\n<table border=\"1\" class=\"dataframe\">\n  <thead>\n    <tr style=\"text-align: right;\">\n      <th></th>\n      <th>time</th>\n      <th>va</th>\n      <th>noise</th>\n    </tr>\n  </thead>\n  <tbody>\n    <tr>\n      <th>1000</th>\n      <td>1000</td>\n      <td>0.999880</td>\n      <td>n=0.0</td>\n    </tr>\n    <tr>\n      <th>1001</th>\n      <td>1001</td>\n      <td>0.999885</td>\n      <td>n=0.0</td>\n    </tr>\n    <tr>\n      <th>1002</th>\n      <td>1002</td>\n      <td>0.999886</td>\n      <td>n=0.0</td>\n    </tr>\n    <tr>\n      <th>1003</th>\n      <td>1003</td>\n      <td>0.999895</td>\n      <td>n=0.0</td>\n    </tr>\n    <tr>\n      <th>1004</th>\n      <td>1004</td>\n      <td>0.999896</td>\n      <td>n=0.0</td>\n    </tr>\n    <tr>\n      <th>...</th>\n      <td>...</td>\n      <td>...</td>\n      <td>...</td>\n    </tr>\n    <tr>\n      <th>1995</th>\n      <td>1995</td>\n      <td>0.050863</td>\n      <td>n=5.0</td>\n    </tr>\n    <tr>\n      <th>1996</th>\n      <td>1996</td>\n      <td>0.026021</td>\n      <td>n=5.0</td>\n    </tr>\n    <tr>\n      <th>1997</th>\n      <td>1997</td>\n      <td>0.048177</td>\n      <td>n=5.0</td>\n    </tr>\n    <tr>\n      <th>1998</th>\n      <td>1998</td>\n      <td>0.021249</td>\n      <td>n=5.0</td>\n    </tr>\n    <tr>\n      <th>1999</th>\n      <td>1999</td>\n      <td>0.034903</td>\n      <td>n=5.0</td>\n    </tr>\n  </tbody>\n</table>\n<p>9000 rows × 3 columns</p>\n</div>"
     },
     "execution_count": 55,
     "metadata": {},
     "output_type": "execute_result"
    }
   ],
   "source": [
    "for i,elem in enumerate(list_final_data):\n",
    "    print(elem)\n",
    "    final_df = final_df.append(elem.loc[1000:])\n",
    "final_df"
   ],
   "metadata": {
    "collapsed": false,
    "pycharm": {
     "name": "#%%\n"
    }
   }
  },
  {
   "cell_type": "code",
   "execution_count": 56,
   "outputs": [],
   "source": [
    "final_df.to_csv(f\"./resources/observable_N_{N}_L{L}.csv\")"
   ],
   "metadata": {
    "collapsed": false,
    "pycharm": {
     "name": "#%%\n"
    }
   }
  },
  {
   "cell_type": "code",
   "execution_count": 56,
   "outputs": [],
   "source": [],
   "metadata": {
    "collapsed": false,
    "pycharm": {
     "name": "#%%\n"
    }
   }
  }
 ],
 "metadata": {
  "kernelspec": {
   "display_name": "Python 3",
   "language": "python",
   "name": "python3"
  },
  "language_info": {
   "codemirror_mode": {
    "name": "ipython",
    "version": 2
   },
   "file_extension": ".py",
   "mimetype": "text/x-python",
   "name": "python",
   "nbconvert_exporter": "python",
   "pygments_lexer": "ipython2",
   "version": "2.7.6"
  }
 },
 "nbformat": 4,
 "nbformat_minor": 0
}