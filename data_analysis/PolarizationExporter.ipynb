{
 "cells": [
  {
   "cell_type": "code",
   "execution_count": 54,
   "metadata": {
    "collapsed": true
   },
   "outputs": [],
   "source": [
    "import pandas as pd\n",
    "import numpy as np\n",
    "from numpy import linalg as LA"
   ]
  },
  {
   "cell_type": "code",
   "execution_count": 55,
   "outputs": [
    {
     "data": {
      "text/plain": "     iteration  id          x          y  speed     angle\n0            0  33   9.868047  12.737947   0.03  3.831478\n1            0  34   8.641826  10.748739   0.03  3.903761\n2            0  35   4.659879  16.184542   0.03  0.185886\n3            0  36   5.930492   7.818632   0.03  0.179831\n4            0  37  10.353489   8.344353   0.03  5.724872\n..         ...  ..        ...        ...    ...       ...\n395          9  28   0.092251  10.577397   0.03 -3.218588\n396          9  29  14.842529   8.722727   0.03 -0.341265\n397          9  30   2.965636  11.577132   0.03  2.545653\n398          9  31  14.196003  17.259991   0.03 -1.335479\n399          9  32   5.766398  11.137881   0.03 -0.868625\n\n[400 rows x 6 columns]",
      "text/html": "<div>\n<style scoped>\n    .dataframe tbody tr th:only-of-type {\n        vertical-align: middle;\n    }\n\n    .dataframe tbody tr th {\n        vertical-align: top;\n    }\n\n    .dataframe thead th {\n        text-align: right;\n    }\n</style>\n<table border=\"1\" class=\"dataframe\">\n  <thead>\n    <tr style=\"text-align: right;\">\n      <th></th>\n      <th>iteration</th>\n      <th>id</th>\n      <th>x</th>\n      <th>y</th>\n      <th>speed</th>\n      <th>angle</th>\n    </tr>\n  </thead>\n  <tbody>\n    <tr>\n      <th>0</th>\n      <td>0</td>\n      <td>33</td>\n      <td>9.868047</td>\n      <td>12.737947</td>\n      <td>0.03</td>\n      <td>3.831478</td>\n    </tr>\n    <tr>\n      <th>1</th>\n      <td>0</td>\n      <td>34</td>\n      <td>8.641826</td>\n      <td>10.748739</td>\n      <td>0.03</td>\n      <td>3.903761</td>\n    </tr>\n    <tr>\n      <th>2</th>\n      <td>0</td>\n      <td>35</td>\n      <td>4.659879</td>\n      <td>16.184542</td>\n      <td>0.03</td>\n      <td>0.185886</td>\n    </tr>\n    <tr>\n      <th>3</th>\n      <td>0</td>\n      <td>36</td>\n      <td>5.930492</td>\n      <td>7.818632</td>\n      <td>0.03</td>\n      <td>0.179831</td>\n    </tr>\n    <tr>\n      <th>4</th>\n      <td>0</td>\n      <td>37</td>\n      <td>10.353489</td>\n      <td>8.344353</td>\n      <td>0.03</td>\n      <td>5.724872</td>\n    </tr>\n    <tr>\n      <th>...</th>\n      <td>...</td>\n      <td>...</td>\n      <td>...</td>\n      <td>...</td>\n      <td>...</td>\n      <td>...</td>\n    </tr>\n    <tr>\n      <th>395</th>\n      <td>9</td>\n      <td>28</td>\n      <td>0.092251</td>\n      <td>10.577397</td>\n      <td>0.03</td>\n      <td>-3.218588</td>\n    </tr>\n    <tr>\n      <th>396</th>\n      <td>9</td>\n      <td>29</td>\n      <td>14.842529</td>\n      <td>8.722727</td>\n      <td>0.03</td>\n      <td>-0.341265</td>\n    </tr>\n    <tr>\n      <th>397</th>\n      <td>9</td>\n      <td>30</td>\n      <td>2.965636</td>\n      <td>11.577132</td>\n      <td>0.03</td>\n      <td>2.545653</td>\n    </tr>\n    <tr>\n      <th>398</th>\n      <td>9</td>\n      <td>31</td>\n      <td>14.196003</td>\n      <td>17.259991</td>\n      <td>0.03</td>\n      <td>-1.335479</td>\n    </tr>\n    <tr>\n      <th>399</th>\n      <td>9</td>\n      <td>32</td>\n      <td>5.766398</td>\n      <td>11.137881</td>\n      <td>0.03</td>\n      <td>-0.868625</td>\n    </tr>\n  </tbody>\n</table>\n<p>400 rows × 6 columns</p>\n</div>"
     },
     "execution_count": 55,
     "metadata": {},
     "output_type": "execute_result"
    }
   ],
   "source": [
    "# Open files\n",
    "data = pd.read_csv(\"../src/main/resources/output/density/output_40.csv\")\n",
    "data"
   ],
   "metadata": {
    "collapsed": false,
    "pycharm": {
     "name": "#%%\n"
    }
   }
  },
  {
   "cell_type": "code",
   "execution_count": 56,
   "outputs": [],
   "source": [
    "# Create important variables\n",
    "n_particles = data['id'].max()\n",
    "speed = data.loc[0]['speed']"
   ],
   "metadata": {
    "collapsed": false,
    "pycharm": {
     "name": "#%%\n"
    }
   }
  },
  {
   "cell_type": "code",
   "execution_count": 57,
   "outputs": [],
   "source": [
    "#Define Va function\n",
    "def calculate_va_i(angles,speeds):\n",
    "    vx = np.inner(np.cos(angles),speeds)\n",
    "    vy = np.inner(np.sin(angles),speeds)\n",
    "    return LA.norm([vx,vy])/(n_particles*speed)"
   ],
   "metadata": {
    "collapsed": false,
    "pycharm": {
     "name": "#%%\n"
    }
   }
  },
  {
   "cell_type": "code",
   "execution_count": 58,
   "outputs": [
    {
     "data": {
      "text/plain": "iteration\n0    0.084172\n1    0.031682\n2    0.054471\n3    0.037953\n4    0.028854\n5    0.118087\n6    0.132604\n7    0.029873\n8    0.124348\n9    0.060562\ndtype: float64"
     },
     "execution_count": 58,
     "metadata": {},
     "output_type": "execute_result"
    }
   ],
   "source": [
    "final_data = data.groupby('iteration').apply(lambda x: calculate_va_i(x['angle'],x['speed']))\n",
    "final_data"
   ],
   "metadata": {
    "collapsed": false,
    "pycharm": {
     "name": "#%%\n"
    }
   }
  },
  {
   "cell_type": "code",
   "execution_count": 59,
   "outputs": [],
   "source": [
    "final_data.to_json(\"./resources/observable.json\")"
   ],
   "metadata": {
    "collapsed": false,
    "pycharm": {
     "name": "#%%\n"
    }
   }
  },
  {
   "cell_type": "code",
   "execution_count": 59,
   "outputs": [],
   "source": [],
   "metadata": {
    "collapsed": false,
    "pycharm": {
     "name": "#%%\n"
    }
   }
  }
 ],
 "metadata": {
  "kernelspec": {
   "display_name": "Python 3",
   "language": "python",
   "name": "python3"
  },
  "language_info": {
   "codemirror_mode": {
    "name": "ipython",
    "version": 2
   },
   "file_extension": ".py",
   "mimetype": "text/x-python",
   "name": "python",
   "nbconvert_exporter": "python",
   "pygments_lexer": "ipython2",
   "version": "2.7.6"
  }
 },
 "nbformat": 4,
 "nbformat_minor": 0
}